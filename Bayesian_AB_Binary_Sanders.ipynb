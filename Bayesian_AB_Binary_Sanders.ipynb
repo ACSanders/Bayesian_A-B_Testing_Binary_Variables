{
 "cells": [
  {
   "cell_type": "markdown",
   "id": "7cc14747-06a1-4e40-b00b-1ad874770113",
   "metadata": {},
   "source": [
    "# Bayesian A/B Testing\n",
    "### Leveraging Bayesian Statistics to Evaluate Test Variants in Mobile Gaming\n",
    "Developed by *A. C. Sanders* | 2024"
   ]
  },
  {
   "cell_type": "markdown",
   "id": "bdc7ad73-107a-4dc9-b18f-ca9576b2452a",
   "metadata": {},
   "source": [
    "## Project Overview"
   ]
  },
  {
   "cell_type": "markdown",
   "id": "7b529d2b-f3be-4375-90fe-bb5c89e04322",
   "metadata": {},
   "source": [
    "This project demonstrates the power of Bayesian A/B Testing in analyzing player retention for the mobile game *Cookie Cats*. Using this robust statistical framework, we investigate whether a test variant improves player engagement, as measured by the binary metric, *retention_1* — which indicates whether a player returns the day after signing up. The test group is referred to as *gate_40* in the dataset whereas the control group is referred to as *gate_30*."
   ]
  },
  {
   "cell_type": "markdown",
   "id": "929de92a-aca1-4a08-9c48-eede07bc68a3",
   "metadata": {},
   "source": [
    "**Key highlights:**\n",
    "\n",
    "1. Custom Python Functionality: A flexible function for Bayesian A/B testing that leverages Monte Carlo simulation and non-informative priors. Non-informative priors allow for the data to guide our inference. But the function can be adapted to accommodate informative priors when domain knowledge is available.\n",
    "2. Posterior Estimation: Monte Carlo techniques derive posterior distributions.\n",
    "3. Probability that the test variant is better than the control group.\n",
    "4. A 95% credibility interval for the estimated lift.\n",
    "5. Conditional Risk Analysis that quantifies the downside risk of adopting the test variant *if the control variant is actually better*.\n",
    "6. Visualization: intuitive plots for posterior distributions and the difference in lift between test and control groups.\n",
    "This notebook is an excellent resource for data scientists and analysts who want to explore Bayesian approaches to A/B testing. For details on methodology, dataset, and setup instructions, refer to the **README** in the GitHub repository."
   ]
  },
  {
   "cell_type": "markdown",
   "id": "4182ef6f-4d83-4cc6-b123-9bf2cd7784ef",
   "metadata": {},
   "source": [
    "## Import Libraries"
   ]
  },
  {
   "cell_type": "code",
   "execution_count": 6,
   "id": "fc74fcaa-4b11-4786-8934-6fbead24b7f9",
   "metadata": {},
   "outputs": [],
   "source": [
    "import numpy as np\n",
    "import pandas as pd\n",
    "import matplotlib.pyplot as plt\n",
    "import seaborn as sns\n",
    "from scipy.stats import beta"
   ]
  },
  {
   "cell_type": "markdown",
   "id": "e15406f0-9550-4055-9f4e-73cd0cb8787d",
   "metadata": {},
   "source": [
    "## Import Data\n",
    "Data available in the Github repo"
   ]
  },
  {
   "cell_type": "code",
   "execution_count": 8,
   "id": "b463a7fb-4880-4adb-8a4a-d3bc6fd64bc3",
   "metadata": {},
   "outputs": [
    {
     "data": {
      "text/html": [
       "<div>\n",
       "<style scoped>\n",
       "    .dataframe tbody tr th:only-of-type {\n",
       "        vertical-align: middle;\n",
       "    }\n",
       "\n",
       "    .dataframe tbody tr th {\n",
       "        vertical-align: top;\n",
       "    }\n",
       "\n",
       "    .dataframe thead th {\n",
       "        text-align: right;\n",
       "    }\n",
       "</style>\n",
       "<table border=\"1\" class=\"dataframe\">\n",
       "  <thead>\n",
       "    <tr style=\"text-align: right;\">\n",
       "      <th></th>\n",
       "      <th>userid</th>\n",
       "      <th>version</th>\n",
       "      <th>sum_gamerounds</th>\n",
       "      <th>retention_1</th>\n",
       "      <th>retention_7</th>\n",
       "    </tr>\n",
       "  </thead>\n",
       "  <tbody>\n",
       "    <tr>\n",
       "      <th>0</th>\n",
       "      <td>116</td>\n",
       "      <td>gate_30</td>\n",
       "      <td>3</td>\n",
       "      <td>False</td>\n",
       "      <td>False</td>\n",
       "    </tr>\n",
       "    <tr>\n",
       "      <th>1</th>\n",
       "      <td>337</td>\n",
       "      <td>gate_30</td>\n",
       "      <td>38</td>\n",
       "      <td>True</td>\n",
       "      <td>False</td>\n",
       "    </tr>\n",
       "    <tr>\n",
       "      <th>2</th>\n",
       "      <td>377</td>\n",
       "      <td>gate_40</td>\n",
       "      <td>165</td>\n",
       "      <td>True</td>\n",
       "      <td>False</td>\n",
       "    </tr>\n",
       "    <tr>\n",
       "      <th>3</th>\n",
       "      <td>483</td>\n",
       "      <td>gate_40</td>\n",
       "      <td>1</td>\n",
       "      <td>False</td>\n",
       "      <td>False</td>\n",
       "    </tr>\n",
       "    <tr>\n",
       "      <th>4</th>\n",
       "      <td>488</td>\n",
       "      <td>gate_40</td>\n",
       "      <td>179</td>\n",
       "      <td>True</td>\n",
       "      <td>True</td>\n",
       "    </tr>\n",
       "  </tbody>\n",
       "</table>\n",
       "</div>"
      ],
      "text/plain": [
       "   userid  version  sum_gamerounds  retention_1  retention_7\n",
       "0     116  gate_30               3        False        False\n",
       "1     337  gate_30              38         True        False\n",
       "2     377  gate_40             165         True        False\n",
       "3     483  gate_40               1        False        False\n",
       "4     488  gate_40             179         True         True"
      ]
     },
     "execution_count": 8,
     "metadata": {},
     "output_type": "execute_result"
    }
   ],
   "source": [
    "# save file path (on my desktop)\n",
    "file_path = r\"C:\\Users\\adams\\OneDrive\\Desktop\\cookie_cats.csv\"\n",
    "\n",
    "# load into dataframe\n",
    "data = pd.read_csv(file_path)\n",
    "\n",
    "# Display the first few rows\n",
    "data.head()"
   ]
  },
  {
   "cell_type": "markdown",
   "id": "0d462162-e4ad-45d6-8561-68c8cee4b90a",
   "metadata": {},
   "source": [
    "## Quick Summary Statistics and EDA"
   ]
  },
  {
   "cell_type": "code",
   "execution_count": 10,
   "id": "b6dc4a29-2aa1-4211-ae5c-72260ce8a390",
   "metadata": {},
   "outputs": [
    {
     "name": "stdout",
     "output_type": "stream",
     "text": [
      "<class 'pandas.core.frame.DataFrame'>\n",
      "RangeIndex: 90189 entries, 0 to 90188\n",
      "Data columns (total 5 columns):\n",
      " #   Column          Non-Null Count  Dtype \n",
      "---  ------          --------------  ----- \n",
      " 0   userid          90189 non-null  int64 \n",
      " 1   version         90189 non-null  object\n",
      " 2   sum_gamerounds  90189 non-null  int64 \n",
      " 3   retention_1     90189 non-null  bool  \n",
      " 4   retention_7     90189 non-null  bool  \n",
      "dtypes: bool(2), int64(2), object(1)\n",
      "memory usage: 2.2+ MB\n"
     ]
    }
   ],
   "source": [
    "# first make a copy of our data\n",
    "df = data.copy()\n",
    "\n",
    "# df information\n",
    "df.info()"
   ]
  },
  {
   "cell_type": "code",
   "execution_count": 11,
   "id": "9cbcb368-4b8c-4c81-b5de-4f48443f1ebf",
   "metadata": {},
   "outputs": [
    {
     "name": "stdout",
     "output_type": "stream",
     "text": [
      "Number of nulls per column:\n",
      "userid            0\n",
      "version           0\n",
      "sum_gamerounds    0\n",
      "retention_1       0\n",
      "retention_7       0\n",
      "dtype: int64\n"
     ]
    }
   ],
   "source": [
    "# number of null per column\n",
    "nulls_per_column = df.isnull().sum()\n",
    "\n",
    "print(\"Number of nulls per column:\")\n",
    "print(nulls_per_column)"
   ]
  },
  {
   "cell_type": "code",
   "execution_count": 12,
   "id": "89b48864-d81b-4b57-bbcc-28487d670fa4",
   "metadata": {},
   "outputs": [
    {
     "data": {
      "text/html": [
       "<div>\n",
       "<style scoped>\n",
       "    .dataframe tbody tr th:only-of-type {\n",
       "        vertical-align: middle;\n",
       "    }\n",
       "\n",
       "    .dataframe tbody tr th {\n",
       "        vertical-align: top;\n",
       "    }\n",
       "\n",
       "    .dataframe thead th {\n",
       "        text-align: right;\n",
       "    }\n",
       "</style>\n",
       "<table border=\"1\" class=\"dataframe\">\n",
       "  <thead>\n",
       "    <tr style=\"text-align: right;\">\n",
       "      <th></th>\n",
       "      <th>userid</th>\n",
       "      <th>sum_gamerounds</th>\n",
       "    </tr>\n",
       "  </thead>\n",
       "  <tbody>\n",
       "    <tr>\n",
       "      <th>count</th>\n",
       "      <td>9.018900e+04</td>\n",
       "      <td>90189.000000</td>\n",
       "    </tr>\n",
       "    <tr>\n",
       "      <th>mean</th>\n",
       "      <td>4.998412e+06</td>\n",
       "      <td>51.872457</td>\n",
       "    </tr>\n",
       "    <tr>\n",
       "      <th>std</th>\n",
       "      <td>2.883286e+06</td>\n",
       "      <td>195.050858</td>\n",
       "    </tr>\n",
       "    <tr>\n",
       "      <th>min</th>\n",
       "      <td>1.160000e+02</td>\n",
       "      <td>0.000000</td>\n",
       "    </tr>\n",
       "    <tr>\n",
       "      <th>25%</th>\n",
       "      <td>2.512230e+06</td>\n",
       "      <td>5.000000</td>\n",
       "    </tr>\n",
       "    <tr>\n",
       "      <th>50%</th>\n",
       "      <td>4.995815e+06</td>\n",
       "      <td>16.000000</td>\n",
       "    </tr>\n",
       "    <tr>\n",
       "      <th>75%</th>\n",
       "      <td>7.496452e+06</td>\n",
       "      <td>51.000000</td>\n",
       "    </tr>\n",
       "    <tr>\n",
       "      <th>max</th>\n",
       "      <td>9.999861e+06</td>\n",
       "      <td>49854.000000</td>\n",
       "    </tr>\n",
       "  </tbody>\n",
       "</table>\n",
       "</div>"
      ],
      "text/plain": [
       "             userid  sum_gamerounds\n",
       "count  9.018900e+04    90189.000000\n",
       "mean   4.998412e+06       51.872457\n",
       "std    2.883286e+06      195.050858\n",
       "min    1.160000e+02        0.000000\n",
       "25%    2.512230e+06        5.000000\n",
       "50%    4.995815e+06       16.000000\n",
       "75%    7.496452e+06       51.000000\n",
       "max    9.999861e+06    49854.000000"
      ]
     },
     "execution_count": 12,
     "metadata": {},
     "output_type": "execute_result"
    }
   ],
   "source": [
    "# summary stats - in this case we will sum_gamerounds is our only numeric variable\n",
    "df.describe()"
   ]
  },
  {
   "cell_type": "code",
   "execution_count": 13,
   "id": "77e834c2-4db2-4fb5-a635-828fefc045fa",
   "metadata": {},
   "outputs": [
    {
     "data": {
      "image/png": "[encoded data removed]",
      "text/plain": [
       "<Figure size 1000x500 with 1 Axes>"
      ]
     },
     "metadata": {},
     "output_type": "display_data"
    },
    {
     "name": "stdout",
     "output_type": "stream",
     "text": [
      "Proportion of True for retention_1 by experiment arm:\n",
      "version\n",
      "gate_30    0.448188\n",
      "gate_40    0.442283\n",
      "Name: retention_1, dtype: float64\n"
     ]
    }
   ],
   "source": [
    "# let's look at the proportion of users that returned the next day (True for retention_d1) broken out by arm (version)\n",
    "\n",
    "# we can use groupby('version') and aggregate for retention_1\n",
    "proportion_true = df.groupby('version')['retention_1'].mean()\n",
    "\n",
    "# colors for the two experiment arms\n",
    "colors = ['dodgerblue', 'orange']\n",
    "\n",
    "# proportion plot\n",
    "proportion_true.plot(\n",
    "    kind='bar', \n",
    "    color=colors,\n",
    "    figsize=(10, 5), \n",
    "    title=\"Proportion of Retention by Experiment Arm\"\n",
    ")\n",
    "plt.ylabel(\"Proportion of True (Showed Up)\")\n",
    "plt.xlabel(\"Experiment Arm\")\n",
    "plt.xticks(rotation=0)\n",
    "plt.show()\n",
    "\n",
    "# display the results\n",
    "print(\"Proportion of True for retention_1 by experiment arm:\")\n",
    "print(proportion_true)"
   ]
  },
  {
   "cell_type": "markdown",
   "id": "e60c5c28-7bb5-4d00-85b5-38afe70fe6a8",
   "metadata": {},
   "source": [
    "## Data Transformation\n",
    "Rename *gate_30* and *gate_40* values to *control* and *test*, respectively. Afterwards, convert *retention_1* to a binary variable for testing."
   ]
  },
  {
   "cell_type": "code",
   "execution_count": 15,
   "id": "7a85feee-cb46-490f-a7f3-201edaeade74",
   "metadata": {},
   "outputs": [
    {
     "name": "stdout",
     "output_type": "stream",
     "text": [
      "version\n",
      "test       45489\n",
      "control    44700\n",
      "Name: count, dtype: int64\n"
     ]
    }
   ],
   "source": [
    "# rename gate_30 to control and gate_40 to test using the replace() function\n",
    "df['version'] = df['version'].replace({'gate_30': 'control', 'gate_40': 'test'})\n",
    "\n",
    "# check and verify\n",
    "print(df['version'].value_counts())"
   ]
  },
  {
   "cell_type": "code",
   "execution_count": 16,
   "id": "39529958-ac17-4f2c-81b6-5259d867187f",
   "metadata": {},
   "outputs": [
    {
     "data": {
      "text/plain": [
       "Index(['userid', 'experiment_arm', 'sum_gamerounds', 'retention_1',\n",
       "       'retention_7'],\n",
       "      dtype='object')"
      ]
     },
     "execution_count": 16,
     "metadata": {},
     "output_type": "execute_result"
    }
   ],
   "source": [
    "# rename the 'version' column to 'experiment_arm'\n",
    "df.rename(columns={'version': 'experiment_arm'}, inplace=True)\n",
    "\n",
    "# check and verify\n",
    "df.columns"
   ]
  },
  {
   "cell_type": "code",
   "execution_count": 17,
   "id": "2701382d-34bd-4b86-bc82-4b55e52354b9",
   "metadata": {},
   "outputs": [
    {
     "name": "stdout",
     "output_type": "stream",
     "text": [
      "retention_1\n",
      "0    50036\n",
      "1    40153\n",
      "Name: count, dtype: int64\n"
     ]
    }
   ],
   "source": [
    "# next, convert the Boolean variable, retention_1, into a binary variable using astype(int)\n",
    "df['retention_1'] = df['retention_1'].astype(int)\n",
    "\n",
    "# check and verify\n",
    "print(df['retention_1'].value_counts())"
   ]
  },
  {
   "cell_type": "markdown",
   "id": "60a85a7d-4144-4bdd-91ef-c177daee5bce",
   "metadata": {},
   "source": [
    "## Bayesian A/B Test Function"
   ]
  },
  {
   "cell_type": "code",
   "execution_count": 19,
   "id": "9c726628-b03e-48fd-9061-df4de5e6ba13",
   "metadata": {},
   "outputs": [],
   "source": [
    "# function to perform a Bayesian A/B test using Monte Carlo simulation and non-informative priors\n",
    "def bayesian_test(df, metric = 'retention_1'):\n",
    "    # segment our data into test and control groups\n",
    "    test_data = df[df['experiment_arm'] == 'test'][metric]\n",
    "    control_data = df[df['experiment_arm'] == 'control'][metric]\n",
    "    \n",
    "    # Monte Carlo simulation set to 10,000\n",
    "    n_simulations = 10000\n",
    "    \n",
    "    # we simulate posterior distributions using Beta distribution with non-informative uniform priors\n",
    "    test_posterior = beta(1 + sum(test_data), 1 + len(test_data) - sum(test_data))\n",
    "    control_posterior = beta(1 + sum(control_data), 1 + len(control_data) - sum(control_data))\n",
    "    \n",
    "    # Monte Carlo sampling for test and control using rvs()\n",
    "    test_samples = test_posterior.rvs(n_simulations)\n",
    "    control_samples = control_posterior.rvs(n_simulations)\n",
    "    \n",
    "    # Calculate the probability that test beats control\n",
    "    prob_test_beats_control = np.mean(test_samples > control_samples)\n",
    "    \n",
    "    # Caluclate the posterior distribution means\n",
    "    test_samples_mean = test_samples.mean()\n",
    "    control_samples_mean = control_samples.mean()\n",
    "    \n",
    "    # Posterior mean delta\n",
    "    posterior_mean_delta = test_samples_mean - control_samples_mean\n",
    "    \n",
    "    # Caluclate the posterior distribution medians\n",
    "    test_samples_median = np.percentile(test_samples, 50)\n",
    "    control_samples_median = np.percentile(control_samples, 50)\n",
    "    \n",
    "    # Calculate the relative increase - i.e., the difference\n",
    "    diff_samples = test_samples - control_samples\n",
    "    \n",
    "    # Calculate the 95% Credibility Interval\n",
    "    credible_interval = np.percentile(diff_samples, [2.5, 97.5])\n",
    "    credible_interval_lower = credible_interval[0]\n",
    "    credible_interval_upper = credible_interval[1]\n",
    "    \n",
    "    # Calculate point estimates: mean, median, 30th percentile, and 70th percentile\n",
    "    diff_samples_mean = diff_samples.mean()\n",
    "    diff_samples_median = np.percentile(diff_samples, 50)\n",
    "    diff_samples_30 = np.percentile(diff_samples, 30)\n",
    "    diff_samples_70 = np.percentile(diff_samples, 70)\n",
    "    \n",
    "    # Calculate the expected loss or conditional risk: the average negative differences\n",
    "    conditional_risk = np.mean(diff_samples[diff_samples < 0])\n",
    "\n",
    "    return prob_test_beats_control, n_simulations, test_samples, control_samples, test_samples_mean, test_samples_median, control_samples_mean, control_samples_median, posterior_mean_delta, diff_samples, credible_interval, credible_interval_lower, credible_interval_upper, diff_samples_median, diff_samples_30, diff_samples_70, conditional_risk"
   ]
  },
  {
   "cell_type": "markdown",
   "id": "463691b5-c135-4536-acd5-300b5c6e79e6",
   "metadata": {},
   "source": [
    "## Plotting Functions\n",
    "Used for plotting posteriors and distribution of estimated lift"
   ]
  },
  {
   "cell_type": "code",
   "execution_count": 21,
   "id": "cc2915ad-4bbc-4475-9bbb-18aedf43318b",
   "metadata": {},
   "outputs": [],
   "source": [
    "# posterior distribution plots\n",
    "def create_posterior_plt_distplot(test_samples, control_samples,\n",
    "                                  test_samples_mean, test_samples_median,\n",
    "                                  control_samples_mean, control_samples_median):\n",
    "    \n",
    "    plt.figure(figsize=(10, 6))\n",
    "    \n",
    "    # Plot the Test and Control posterior distributions\n",
    "    plt.hist(test_samples, bins=100, alpha=0.5, label='Test', color='hotpink')\n",
    "    plt.hist(control_samples, bins=100, alpha=0.5, label='Control', color='blueviolet')\n",
    "    \n",
    "    # Plot the Test means and medians\n",
    "    plt.axvline(test_samples_mean, color='hotpink', linestyle='dashed', linewidth=2, label=f'Test Mean: {round((test_samples_mean*100),2)}')\n",
    "    plt.axvline(test_samples_median, color='red', linestyle='solid', linewidth=2, label=f'Test Median: {round((test_samples_median*100),2)}')\n",
    "    \n",
    "    # Plot the Control means and medians\n",
    "    plt.axvline(control_samples_mean, color='blueviolet', linestyle='dashed', linewidth=2, label=f'Control Mean: {round((control_samples_mean*100),2)}')\n",
    "    plt.axvline(control_samples_median, color='purple', linestyle='solid', linewidth=2, label=f'Control Median: {round((control_samples_median*100),2)}')\n",
    "    \n",
    "    plt.title('Posterior Distributions')\n",
    "    plt.xlabel('Values')\n",
    "    plt.ylabel('Frequency')\n",
    "    plt.legend()\n",
    "    \n",
    "    plt.tight_layout()\n",
    "    plt.show()"
   ]
  },
  {
   "cell_type": "code",
   "execution_count": 22,
   "id": "8d3a28fd-0f1a-44ec-8f09-f997d659ef08",
   "metadata": {},
   "outputs": [],
   "source": [
    "# difference distribution\n",
    "def create_difference_plt_distplot(diff_samples, credible_interval, credible_interval_lower, credible_interval_upper,\n",
    "                                   diff_samples_median, diff_samples_30, diff_samples_70, n_simulations):\n",
    "    \n",
    "    plt.figure(figsize = (10, 6))\n",
    "\n",
    "    # create the distribution of differences: test - control\n",
    "    plt.hist(diff_samples, bins = 100, alpha = 0.5, label = 'Differences', color = 'aquamarine')\n",
    "\n",
    "    # 95% credibility interval lines\n",
    "    plt.axvline(credible_interval[0], color = 'red', linestyle = 'dashed', linewidth = 2, label = f'95% lower bound: {round((credible_interval_lower*100),2)}')\n",
    "    plt.axvline(credible_interval[1], color = 'red', linestyle = 'dashed', linewidth = 2, label = f'95% upper bound: {round((credible_interval_upper*100),2)}')\n",
    "    \n",
    "    # point estimates for median, 30th percentile, and 70th percentile\n",
    "    plt.axvline(diff_samples_median, color = 'dodgerblue', linestyle = 'solid', linewidth = 2, label = f'median: {round((diff_samples_median*100),2)}')\n",
    "    plt.axvline(diff_samples_30, color = 'purple', linestyle = 'dashed', linewidth = 2, label = f'30%: {round((diff_samples_30*100),2)}')\n",
    "    plt.axvline(diff_samples_70, color = 'purple', linestyle = 'dashed', linewidth = 2, label = f'70%: {round((diff_samples_70*100),2)}')\n",
    "\n",
    "    # reference line for 0\n",
    "    plt.axvline(0, color = 'orange', linestyle = 'dotted', linewidth = 2, label = 0)\n",
    "    \n",
    "    plt.title(f'Distribution of Relative Lift (Test - Control) in {n_simulations} Simulations')\n",
    "    plt.xlabel('Differences')\n",
    "    plt.ylabel('Frequency')\n",
    "    plt.legend()\n",
    "    \n",
    "    plt.tight_layout()\n",
    "    \n",
    "    plt.show()"
   ]
  },
  {
   "cell_type": "markdown",
   "id": "1a143138-6eb9-4589-a96a-f9641650e6f3",
   "metadata": {},
   "source": [
    "## Running the Bayesian A/B testing"
   ]
  },
  {
   "cell_type": "code",
   "execution_count": 24,
   "id": "5ef57f47-f60f-4574-8031-d339036122f3",
   "metadata": {},
   "outputs": [
    {
     "name": "stdout",
     "output_type": "stream",
     "text": [
      "test sample posterior mean: 44.227\n",
      "control sample posterior mean: 44.822\n",
      "posterior mean delta: -0.595\n",
      "probability that test beats control in 10000 simulations is: 3.5\n",
      "95% Credibility Interval: [-1.24, 0.045]\n",
      "most likely lift at 50th percentile: -0.593\n",
      "suboptimal lift at 30th percentile: -0.766\n",
      "best case scenario lift around 70th percentile: -0.421\n",
      "conditional risk is: -0.621\n"
     ]
    }
   ],
   "source": [
    "# run the test\n",
    "prob_test_beats_control, n_simulations, test_samples, control_samples, test_samples_mean, test_samples_median, control_samples_mean, control_samples_median, posterior_mean_delta, diff_samples, credible_interval, credible_interval_lower, credible_interval_upper, diff_samples_median, diff_samples_30, diff_samples_70, conditional_risk = bayesian_test(df)\n",
    "\n",
    "# display results\n",
    "print(f'test sample posterior mean: {round((test_samples_mean*100),3)}')\n",
    "print(f'control sample posterior mean: {round((control_samples_mean*100),3)}')\n",
    "print(f'posterior mean delta: {round((posterior_mean_delta*100),3)}')\n",
    "print(f'probability that test beats control in {n_simulations} simulations is: {round((prob_test_beats_control*100),2)}')\n",
    "print(f'95% Credibility Interval: [{round((credible_interval_lower*100),3)}, {round((credible_interval_upper*100),3)}]')\n",
    "print(f'most likely lift at 50th percentile: {round((diff_samples_median*100),3)}')\n",
    "print(f'suboptimal lift at 30th percentile: {round((diff_samples_30*100),3)}')\n",
    "print(f'best case scenario lift around 70th percentile: {round((diff_samples_70*100),3)}')\n",
    "print(f'conditional risk is: {round((conditional_risk*100),3)}')"
   ]
  },
  {
   "cell_type": "code",
   "execution_count": 25,
   "id": "e3a1a9f5-4d61-4bfa-8931-e5fa5745799f",
   "metadata": {},
   "outputs": [
    {
     "data": {
      "image/png": "[encoded data removed]",
      "text/plain": [
       "<Figure size 1000x600 with 1 Axes>"
      ]
     },
     "metadata": {},
     "output_type": "display_data"
    }
   ],
   "source": [
    "# run the plotting functions\n",
    "create_posterior_plt_distplot(test_samples, control_samples, test_samples_mean, test_samples_median, control_samples_mean, control_samples_median)"
   ]
  },
  {
   "cell_type": "code",
   "execution_count": 26,
   "id": "767da4c2-e97d-4927-ba16-f415924f41a3",
   "metadata": {},
   "outputs": [
    {
     "data": {
      "image/png": "[encoded data removed]",
      "text/plain": [
       "<Figure size 1000x600 with 1 Axes>"
      ]
     },
     "metadata": {},
     "output_type": "display_data"
    }
   ],
   "source": [
    "# distribution of estimated lift (test - control) for the simulations\n",
    "create_difference_plt_distplot(diff_samples, credible_interval, credible_interval_lower, credible_interval_upper, diff_samples_median, diff_samples_30, diff_samples_70, n_simulations)"
   ]
  },
  {
   "cell_type": "markdown",
   "id": "1b983b6e-4250-425f-b808-58e4ac54843b",
   "metadata": {},
   "source": [
    "### Results:\n",
    "- We can be highly confident that the control variant outperforms the test variant. The test arm has a very low probability that it is better (approximately 3.5%), whereas the control arm has around a 96.5% probability that it is better.\n",
    "- The 95% credibility interval is -1.2% to 0.01%, and the most likely delta (test - control) is -0.6, indicated by the 50th percentile.\n",
    "- The conditional risk metric is -0.6%"
   ]
  },
  {
   "cell_type": "code",
   "execution_count": null,
   "id": "50ed98c8-7511-45fe-b9b1-0dfe933c8884",
   "metadata": {},
   "outputs": [],
   "source": []
  }
 ],
 "metadata": {
  "kernelspec": {
   "display_name": "Python 3 (ipykernel)",
   "language": "python",
   "name": "python3"
  },
  "language_info": {
   "codemirror_mode": {
    "name": "ipython",
    "version": 3
   },
   "file_extension": ".py",
   "mimetype": "text/x-python",
   "name": "python",
   "nbconvert_exporter": "python",
   "pygments_lexer": "ipython3",
   "version": "3.9.20"
  }
 },
 "nbformat": 4,
 "nbformat_minor": 5
}
